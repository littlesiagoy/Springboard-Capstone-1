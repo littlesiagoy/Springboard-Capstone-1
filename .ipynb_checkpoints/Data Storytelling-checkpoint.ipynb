{
 "cells": [
  {
   "cell_type": "code",
   "execution_count": 4,
   "metadata": {
    "collapsed": true
   },
   "outputs": [],
   "source": [
    "import pandas as pd\n",
    "import numpy as np\n",
    "import matplotlib.pyplot as plt\n",
    "import seaborn as sns"
   ]
  },
  {
   "cell_type": "code",
   "execution_count": 5,
   "metadata": {
    "collapsed": true
   },
   "outputs": [],
   "source": [
    "# The dataset I will be using is the cardiovascular/poverty dataset I created as the project 1 dataset.\n",
    "\n",
    "data = pd.read_excel('master_dataset.xlsx')"
   ]
  },
  {
   "cell_type": "markdown",
   "metadata": {},
   "source": [
    "print(data.head(5))"
   ]
  },
  {
   "cell_type": "code",
   "execution_count": 6,
   "metadata": {},
   "outputs": [
    {
     "name": "stdout",
     "output_type": "stream",
     "text": [
      "           STATE  Total (1000s)  Number (1000s)  Percent  Year  \\\n",
      "24   Mississippi           2429             591     24.3  1980   \n",
      "75   Mississippi           2564             644     25.1  1985   \n",
      "126  Mississippi           2663             684     25.7  1990   \n",
      "184   New Mexico           1806             457     25.3  1995   \n",
      "263         D.C.            539             115     21.3  2005   \n",
      "\n",
      "     Mortality Rate (1,000s)  Outlier  \n",
      "24                    5.7281  Percent  \n",
      "75                    5.3990  Percent  \n",
      "126                   4.8697  Percent  \n",
      "184                   3.0454  Percent  \n",
      "263                   3.5194  Percent  \n"
     ]
    }
   ],
   "source": [
    "# I want to split the data up by year and determine the amount of outliers in the Poverty Rate and Mortality Rate per year.\n",
    "data_1980 = data[data['Year'] == 1980]\n",
    "data_1985 = data[data['Year'] == 1985]\n",
    "data_1990 = data[data['Year'] == 1990]\n",
    "data_1995 = data[data['Year'] == 1995]\n",
    "data_2000 = data[data['Year'] == 2000]\n",
    "data_2005 = data[data['Year'] == 2005]\n",
    "data_2010 = data[data['Year'] == 2010]\n",
    "\n",
    "data_list = [data_1980, data_1985, data_1990, data_1995, data_2000, data_2005, data_2010]\n",
    "\n",
    "outliers_total_years = pd.DataFrame()\n",
    "for index in range(len(data_list)):\n",
    "    \n",
    "    # Initialize empty outlier dataframe.\n",
    "    \n",
    "    # Calculate the number of outliers in the poverty rate and mortality rate columns.\n",
    "    for i in [3, 5]:\n",
    "        outliers = pd.DataFrame()\n",
    "        # Determine the IQR.\n",
    "        IQR = (np.percentile(data_list[index][data_list[index].columns[i]], [75]) - np.percentile(data_list[index][data_list[index].columns[i]], [25]))[0]\n",
    "\n",
    "        # Determine the upper and lower range.\n",
    "        upper_range = np.percentile(data_list[index][data_list[index].columns[i]], [75])[0] + 1.5*IQR\n",
    "        lower_range = np.percentile(data_list[index][data_list[index].columns[i]], [25])[0] - 1.5*IQR\n",
    "        \n",
    "        # Determine which state's values are outliers.\n",
    "        outliers = outliers.append(data_list[index][data_list[index][data_list[index].columns[i]] > upper_range])\n",
    "        outliers = outliers.append(data_list[index][data_list[index][data_list[index].columns[i]] < lower_range])\n",
    "        \n",
    "        # Add what kind of outlier column.\n",
    "        if outliers.empty:\n",
    "            continue\n",
    "        else:\n",
    "            if i == 3:\n",
    "                outliers['Outlier'] = 'Percent'\n",
    "            else:\n",
    "                outliers['Outlier'] = 'Mortality'\n",
    "        outliers_total_years = outliers_total_years.append(outliers)\n",
    "        \n",
    "        \n",
    "print(outliers_total_years)"
   ]
  },
  {
   "cell_type": "markdown",
   "metadata": {},
   "source": [
    "We can see that we have 5 outliers and they are all from the poverty rate column.  There do not seem to be any outliers in the mortality rates.\n",
    "\n",
    "What is also interesting is the fact that there seems to be 1 outlier a year except for the year 2000, where there aren't any.\n",
    "\n",
    "This is interseting because when we slice the data by state instead of year, the number of outliers differ."
   ]
  },
  {
   "cell_type": "code",
   "execution_count": 7,
   "metadata": {},
   "outputs": [
    {
     "name": "stdout",
     "output_type": "stream",
     "text": [
      "              STATE  Total (1000s)  Number (1000s)  Percent  Year  \\\n",
      "343          Oregon           3752             537     14.3  2010   \n",
      "139          Oregon           2891             267      9.2  1990   \n",
      "349           Texas          25200            4633     18.4  2010   \n",
      "339  North Carolina           9359            1633     17.4  2010   \n",
      "228     Mississippi           2794             418     14.9  2000   \n",
      "212            D.C.            552              84     15.2  2000   \n",
      "36         Oklahoma           2916             406     13.9  1980   \n",
      "300         Vermont            621              47      7.6  2005   \n",
      "193  South Carolina           3741             744     19.9  1995   \n",
      "244  South Carolina           3964             441     11.1  2000   \n",
      "224        Maryland           5241             386      7.4  2000   \n",
      "320         Indiana           6390            1041     16.3  2010   \n",
      "341            Ohio          11341            1746     15.4  2010   \n",
      "267           Idaho           1441             143      9.9  2005   \n",
      "66             Iowa           2815             505     17.9  1985   \n",
      "99    West Virginia           1894             423     22.3  1985   \n",
      "184      New Mexico           1806             457     25.3  1995   \n",
      "\n",
      "     Mortality Rate (1,000s)  Outlier  \n",
      "343                   2.1911  Percent  \n",
      "139                   3.5271  Percent  \n",
      "349                   2.6492  Percent  \n",
      "339                   2.6031  Percent  \n",
      "228                   4.4876  Percent  \n",
      "212                   3.9856  Percent  \n",
      "36                    5.0368  Percent  \n",
      "300                   2.5737  Percent  \n",
      "193                   4.1563  Percent  \n",
      "244                   3.7618  Percent  \n",
      "224                   3.5119  Percent  \n",
      "320                   2.8094  Percent  \n",
      "341                   2.7521  Percent  \n",
      "267                   2.6478  Percent  \n",
      "66                    4.2764  Percent  \n",
      "99                    5.2058  Percent  \n",
      "184                   3.0454  Percent  \n"
     ]
    }
   ],
   "source": [
    "list_of_states = list(set(data.STATE))\n",
    "\n",
    "outliers_total_state = pd.DataFrame()\n",
    "for index in range(len(list_of_states)):\n",
    "    \n",
    "    state_data = data[data.STATE == list_of_states[index]]\n",
    "    \n",
    "    # Calculate the number of outliers in the poverty rate and mortality rate columns.\n",
    "    for i in [3, 5]:\n",
    "        outliers = pd.DataFrame()\n",
    "        # Determine the IQR.\n",
    "        IQR = (np.percentile(state_data[state_data.columns[i]], [75]) - np.percentile(state_data[state_data.columns[i]], [25]))[0]\n",
    "\n",
    "        # Determine the upper and lower range.\n",
    "        upper_range = np.percentile(state_data[state_data.columns[i]], [75])[0] + 1.5*IQR\n",
    "        lower_range = np.percentile(state_data[state_data.columns[i]], [25])[0] - 1.5*IQR\n",
    "\n",
    "        # Determine which state's values are outliers.\n",
    "        outliers = outliers.append(state_data[state_data[state_data.columns[i]] > upper_range])\n",
    "        outliers = outliers.append(state_data[state_data[state_data.columns[i]] < lower_range])\n",
    "\n",
    "        # Add what kind of outlier column.\n",
    "        if outliers.empty:\n",
    "            continue\n",
    "        else:\n",
    "            if i == 3:\n",
    "                outliers['Outlier'] = 'Percent'\n",
    "            else:\n",
    "                outliers['Outlier'] = 'Mortality'\n",
    "        outliers_total_state = outliers_total_state.append(outliers)\n",
    "        \n",
    "        \n",
    "print(outliers_total_state)"
   ]
  },
  {
   "cell_type": "code",
   "execution_count": 8,
   "metadata": {},
   "outputs": [
    {
     "name": "stdout",
     "output_type": "stream",
     "text": [
      "       Total (1000s)  Number (1000s)    Percent    Year  \\\n",
      "count      51.000000       51.000000  51.000000    51.0   \n",
      "mean     4412.254902      573.980392  13.315686  1980.0   \n",
      "std      4691.007925      599.391875   4.223144     0.0   \n",
      "min       379.000000       36.000000   7.000000  1980.0   \n",
      "25%      1015.500000      143.000000   9.800000  1980.0   \n",
      "50%      2916.000000      389.000000  12.700000  1980.0   \n",
      "75%      5223.500000      714.000000  15.350000  1980.0   \n",
      "max     23748.000000     2619.000000  24.300000  1980.0   \n",
      "\n",
      "       Mortality Rate (1,000s)  \n",
      "count                51.000000  \n",
      "mean                  4.862363  \n",
      "std                   0.546556  \n",
      "min                   3.602300  \n",
      "25%                   4.435400  \n",
      "50%                   4.881900  \n",
      "75%                   5.325550  \n",
      "max                   5.728100  \n",
      "       Total (1000s)  Number (1000s)    Percent    Year  \\\n",
      "count      51.000000       51.000000  51.000000    51.0   \n",
      "mean     4639.117647      648.254902  14.019608  1985.0   \n",
      "std      5050.142036      726.819478   4.200858     0.0   \n",
      "min       506.000000       45.000000   6.000000  1985.0   \n",
      "25%      1073.500000      149.000000  10.800000  1985.0   \n",
      "50%      3219.000000      505.000000  13.700000  1985.0   \n",
      "75%      5434.500000      744.500000  16.000000  1985.0   \n",
      "max     26456.000000     3596.000000  25.100000  1985.0   \n",
      "\n",
      "       Mortality Rate (1,000s)  \n",
      "count                51.000000  \n",
      "mean                  4.501837  \n",
      "std                   0.509743  \n",
      "min                   3.369500  \n",
      "25%                   4.144900  \n",
      "50%                   4.523400  \n",
      "75%                   4.954250  \n",
      "max                   5.399000  \n",
      "       Total (1000s)  Number (1000s)    Percent    Year  \\\n",
      "count      51.000000       51.000000  51.000000    51.0   \n",
      "mean     4875.392157      658.490196  13.282353  1990.0   \n",
      "std      5453.486489      773.162606   4.269693     0.0   \n",
      "min       463.000000       48.000000   6.000000  1990.0   \n",
      "25%      1224.500000      150.000000  10.350000  1990.0   \n",
      "50%      3367.000000      468.000000  13.100000  1990.0   \n",
      "75%      5656.000000      746.500000  15.700000  1990.0   \n",
      "max     29765.000000     4128.000000  25.700000  1990.0   \n",
      "\n",
      "       Mortality Rate (1,000s)  \n",
      "count                51.000000  \n",
      "mean                  3.958545  \n",
      "std                   0.462809  \n",
      "min                   3.065300  \n",
      "25%                   3.606300  \n",
      "50%                   3.976800  \n",
      "75%                   4.355600  \n",
      "max                   4.869700  \n",
      "       Total (1000s)  Number (1000s)    Percent    Year  \\\n",
      "count      51.000000       51.000000  51.000000    51.0   \n",
      "mean     5171.235294      714.235294  13.121569  1995.0   \n",
      "std      5787.299504      948.005350   4.285618     0.0   \n",
      "min       482.000000       45.000000   5.300000  1995.0   \n",
      "25%      1391.500000      163.000000  10.250000  1995.0   \n",
      "50%      3741.000000      457.000000  12.200000  1995.0   \n",
      "75%      5869.000000      795.000000  15.800000  1995.0   \n",
      "max     32055.000000     5342.000000  25.300000  1995.0   \n",
      "\n",
      "       Mortality Rate (1,000s)  \n",
      "count                51.000000  \n",
      "mean                  3.726471  \n",
      "std                   0.457602  \n",
      "min                   2.920800  \n",
      "25%                   3.364800  \n",
      "50%                   3.610000  \n",
      "75%                   4.125750  \n",
      "max                   4.752600  \n",
      "       Total (1000s)  Number (1000s)    Percent    Year  \\\n",
      "count      51.000000        51.00000  51.000000    51.0   \n",
      "mean     5469.509804       619.27451  10.866667  2000.0   \n",
      "std      6138.463275       802.03252   2.952671     0.0   \n",
      "min       485.000000        47.00000   4.500000  2000.0   \n",
      "25%      1484.000000       153.50000   8.600000  2000.0   \n",
      "50%      3964.000000       425.00000  10.400000  2000.0   \n",
      "75%      6145.500000       626.00000  12.650000  2000.0   \n",
      "max     33889.000000      4294.00000  17.500000  2000.0   \n",
      "\n",
      "       Mortality Rate (1,000s)  \n",
      "count                51.000000  \n",
      "mean                  3.421278  \n",
      "std                   0.446365  \n",
      "min                   2.637000  \n",
      "25%                   3.079800  \n",
      "50%                   3.349200  \n",
      "75%                   3.754650  \n",
      "max                   4.487600  \n",
      "       Total (1000s)  Number (1000s)    Percent    Year  \\\n",
      "count      51.000000        51.00000  51.000000    51.0   \n",
      "mean     5747.725490       724.54902  12.270588  2005.0   \n",
      "std      6510.325854       891.63473   3.246863     0.0   \n",
      "min       509.000000        47.00000   5.600000  2005.0   \n",
      "25%      1600.500000       166.50000  10.050000  2005.0   \n",
      "50%      4049.000000       542.00000  11.800000  2005.0   \n",
      "75%      6277.500000       762.00000  14.450000  2005.0   \n",
      "max     35840.000000      4716.00000  21.300000  2005.0   \n",
      "\n",
      "       Mortality Rate (1,000s)  \n",
      "count                51.000000  \n",
      "mean                  2.940473  \n",
      "std                   0.404147  \n",
      "min                   2.269700  \n",
      "25%                   2.608900  \n",
      "50%                   2.886200  \n",
      "75%                   3.198100  \n",
      "max                   3.942500  \n",
      "       Total (1000s)  Number (1000s)    Percent    Year  \\\n",
      "count      51.000000       51.000000  51.000000    51.0   \n",
      "mean     6002.509804      908.686275  14.256863  2010.0   \n",
      "std      6810.738813     1142.601654   3.418436     0.0   \n",
      "min       550.000000       53.000000   6.500000  2010.0   \n",
      "25%      1673.500000      198.500000  11.350000  2010.0   \n",
      "50%      4270.000000      603.000000  14.300000  2010.0   \n",
      "75%      6622.500000     1003.500000  16.650000  2010.0   \n",
      "max     37240.000000     6073.000000  22.500000  2010.0   \n",
      "\n",
      "       Mortality Rate (1,000s)  \n",
      "count                51.000000  \n",
      "mean                  2.546663  \n",
      "std                   0.363370  \n",
      "min                   1.933200  \n",
      "25%                   2.251800  \n",
      "50%                   2.510300  \n",
      "75%                   2.780750  \n",
      "max                   3.470300  \n"
     ]
    }
   ],
   "source": [
    "# Here are some summary statistics from the dataset.\n",
    "# The overall dataset.\n",
    "data.describe()\n",
    "\n",
    "# If we slice the data by year.\n",
    "for index in range(len(data_list)):\n",
    "    print(data_list[index].describe())\n",
    "    \n",
    "# We can graph the trends over time later."
   ]
  },
  {
   "cell_type": "code",
   "execution_count": 9,
   "metadata": {},
   "outputs": [
    {
     "name": "stdout",
     "output_type": "stream",
     "text": [
      "           STATE  Total (1000s)  Number (1000s)  Percent  Year  \\\n",
      "24   Mississippi           2429             591     24.3  1980   \n",
      "75   Mississippi           2564             644     25.1  1985   \n",
      "126  Mississippi           2663             684     25.7  1990   \n",
      "184   New Mexico           1806             457     25.3  1995   \n",
      "\n",
      "     Mortality Rate (1,000s)  Outlier  \n",
      "24                    5.7281  Percent  \n",
      "75                    5.3990  Percent  \n",
      "126                   4.8697  Percent  \n",
      "184                   3.0454  Percent  \n"
     ]
    }
   ],
   "source": [
    "# Now if we don't slice the data in any shape.  The following are what we consider outliers.\n",
    "outliers_total_none = pd.DataFrame()\n",
    "\n",
    "# Calculate the number of outliers in the poverty rate and mortality rate columns.\n",
    "for i in [3, 5]:\n",
    "    outliers = pd.DataFrame()\n",
    "    # Determine the IQR.\n",
    "    IQR = (np.percentile(data[data.columns[i]], [75]) - np.percentile(data[data.columns[i]], [25]))[0]\n",
    "\n",
    "    # Determine the upper and lower range.\n",
    "    upper_range = np.percentile(data[data.columns[i]], [75])[0] + 1.5*IQR\n",
    "    lower_range = np.percentile(data[data.columns[i]], [25])[0] - 1.5*IQR\n",
    "\n",
    "    # Determine which state's values are outliers.\n",
    "    outliers = outliers.append(data[data[data.columns[i]] > upper_range])\n",
    "    outliers = outliers.append(data[data[data.columns[i]] < lower_range])\n",
    "\n",
    "    # Add what kind of outlier column.\n",
    "    if outliers.empty:\n",
    "        continue\n",
    "    else:\n",
    "        if i == 3:\n",
    "            outliers['Outlier'] = 'Percent'\n",
    "        else:\n",
    "            outliers['Outlier'] = 'Mortality'\n",
    "    outliers_total_none = outliers_total_none.append(outliers)\n",
    "\n",
    "\n",
    "print(outliers_total_none)"
   ]
  },
  {
   "cell_type": "code",
   "execution_count": 10,
   "metadata": {},
   "outputs": [
    {
     "data": {
      "image/png": "[encoded data removed]",
      "text/plain": [
       "<matplotlib.figure.Figure at 0x2bd37cc5eb8>"
      ]
     },
     "metadata": {},
     "output_type": "display_data"
    }
   ],
   "source": [
    "# The fact that the amount of outliers differ on how we partition the data is interesting, but I suspect that it's due to a lack of data points when we slice by state.\n",
    "\n",
    "# Here is a histogram of the different amount of outliers based on the partition criteria.\n",
    "\n",
    "outlier_totals = pd.DataFrame([['No Slicing', outliers_total_none.shape[0]],\n",
    "                              ['Slice by State', outliers_total_state.shape[0]],\n",
    "                              ['Slice by Year', outliers_total_years.shape[0]]])\n",
    "\n",
    "outlier_totals.columns = [['Slicing Criteria', 'Num of Outliers']]\n",
    "\n",
    "sns.barplot(x='Slicing Criteria', y='Num of Outliers', data=outlier_totals)\n",
    "plt.show()"
   ]
  },
  {
   "cell_type": "code",
   "execution_count": 11,
   "metadata": {},
   "outputs": [
    {
     "data": {
      "image/png": "[encoded data removed]",
      "text/plain": [
       "<matplotlib.figure.Figure at 0x2bd37d42198>"
      ]
     },
     "metadata": {},
     "output_type": "display_data"
    }
   ],
   "source": [
    "# I suspect that the mortality rate is affected by the poverty rate, so I'll make a scatterplot to see what happens.\n",
    "_ = plt.scatter(x='Percent', y='Mortality Rate (1,000s)', data=data)\n",
    "_ = plt.xlabel('Poverty Rate')\n",
    "_ = plt.ylabel('Mortality Rate (1,000s)')\n",
    "plt.show()"
   ]
  },
  {
   "cell_type": "code",
   "execution_count": 12,
   "metadata": {},
   "outputs": [
    {
     "data": {
      "text/html": [
       "<div>\n",
       "<style>\n",
       "    .dataframe thead tr:only-child th {\n",
       "        text-align: right;\n",
       "    }\n",
       "\n",
       "    .dataframe thead th {\n",
       "        text-align: left;\n",
       "    }\n",
       "\n",
       "    .dataframe tbody tr th {\n",
       "        vertical-align: top;\n",
       "    }\n",
       "</style>\n",
       "<table border=\"1\" class=\"dataframe\">\n",
       "  <thead>\n",
       "    <tr style=\"text-align: right;\">\n",
       "      <th></th>\n",
       "      <th>Total (1000s)</th>\n",
       "      <th>Number (1000s)</th>\n",
       "      <th>Percent</th>\n",
       "      <th>Year</th>\n",
       "      <th>Mortality Rate (1,000s)</th>\n",
       "    </tr>\n",
       "  </thead>\n",
       "  <tbody>\n",
       "    <tr>\n",
       "      <th>Total (1000s)</th>\n",
       "      <td>1.000000</td>\n",
       "      <td>0.970629</td>\n",
       "      <td>0.075019</td>\n",
       "      <td>0.093551</td>\n",
       "      <td>0.024350</td>\n",
       "    </tr>\n",
       "    <tr>\n",
       "      <th>Number (1000s)</th>\n",
       "      <td>0.970629</td>\n",
       "      <td>1.000000</td>\n",
       "      <td>0.238056</td>\n",
       "      <td>0.093533</td>\n",
       "      <td>0.040514</td>\n",
       "    </tr>\n",
       "    <tr>\n",
       "      <th>Percent</th>\n",
       "      <td>0.075019</td>\n",
       "      <td>0.238056</td>\n",
       "      <td>1.000000</td>\n",
       "      <td>-0.055962</td>\n",
       "      <td>0.261699</td>\n",
       "    </tr>\n",
       "    <tr>\n",
       "      <th>Year</th>\n",
       "      <td>0.093551</td>\n",
       "      <td>0.093533</td>\n",
       "      <td>-0.055962</td>\n",
       "      <td>1.000000</td>\n",
       "      <td>-0.855237</td>\n",
       "    </tr>\n",
       "    <tr>\n",
       "      <th>Mortality Rate (1,000s)</th>\n",
       "      <td>0.024350</td>\n",
       "      <td>0.040514</td>\n",
       "      <td>0.261699</td>\n",
       "      <td>-0.855237</td>\n",
       "      <td>1.000000</td>\n",
       "    </tr>\n",
       "  </tbody>\n",
       "</table>\n",
       "</div>"
      ],
      "text/plain": [
       "                         Total (1000s)  Number (1000s)   Percent      Year  \\\n",
       "Total (1000s)                 1.000000        0.970629  0.075019  0.093551   \n",
       "Number (1000s)                0.970629        1.000000  0.238056  0.093533   \n",
       "Percent                       0.075019        0.238056  1.000000 -0.055962   \n",
       "Year                          0.093551        0.093533 -0.055962  1.000000   \n",
       "Mortality Rate (1,000s)       0.024350        0.040514  0.261699 -0.855237   \n",
       "\n",
       "                         Mortality Rate (1,000s)  \n",
       "Total (1000s)                           0.024350  \n",
       "Number (1000s)                          0.040514  \n",
       "Percent                                 0.261699  \n",
       "Year                                   -0.855237  \n",
       "Mortality Rate (1,000s)                 1.000000  "
      ]
     },
     "execution_count": 12,
     "metadata": {},
     "output_type": "execute_result"
    }
   ],
   "source": [
    "# The graph above does not seem to show a correlation between the two.\n",
    "data.corr()\n",
    "\n",
    "# After generating a correlation table, this conclusion seems to be verified.  However, it does show a strong correlation between the mortality rate and time."
   ]
  },
  {
   "cell_type": "code",
   "execution_count": 13,
   "metadata": {},
   "outputs": [
    {
     "data": {
      "image/png": "[encoded data removed]",
      "text/plain": [
       "<matplotlib.figure.Figure at 0x2bd38379160>"
      ]
     },
     "metadata": {},
     "output_type": "display_data"
    }
   ],
   "source": [
    "plt.scatter(x='Year', y='Mortality Rate (1,000s)', data=data)\n",
    "plt.show()\n",
    "\n",
    "# We do see that the Mortality Rate experiences a downward trend over time."
   ]
  },
  {
   "cell_type": "code",
   "execution_count": 14,
   "metadata": {},
   "outputs": [
    {
     "data": {
      "image/png": "[encoded data removed]",
      "text/plain": [
       "<matplotlib.figure.Figure at 0x2bd3803fe10>"
      ]
     },
     "metadata": {},
     "output_type": "display_data"
    }
   ],
   "source": [
    "# If the mortality rate and poverty rate are correlated, we should expect the poverty rate to decrease over time.\n",
    "plt.scatter(x='Year', y='Percent', data=data)\n",
    "plt.show()"
   ]
  },
  {
   "cell_type": "code",
   "execution_count": 15,
   "metadata": {},
   "outputs": [
    {
     "name": "stdout",
     "output_type": "stream",
     "text": [
      "13.315686274509806\n",
      "14.019607843137253\n",
      "13.28235294117647\n",
      "13.121568627450984\n",
      "10.866666666666665\n",
      "12.270588235294126\n",
      "14.25686274509804\n"
     ]
    }
   ],
   "source": [
    "for index in range(len(data_list)):\n",
    "    print(np.mean(data_list[index]['Percent']))\n",
    "    \n",
    "# The poverty rate seems to stay around the 13% range."
   ]
  },
  {
   "cell_type": "markdown",
   "metadata": {
    "collapsed": true
   },
   "source": [
    "When we look at the outliers for the unpartitioned dataset, we notice that Mississippi shows up 3 times.\n",
    "It has outliers in the poverty rate and it has one of the highest mortality rates recorded.\n",
    "\n",
    "Let's graph it and see what happens."
   ]
  },
  {
   "cell_type": "code",
   "execution_count": 16,
   "metadata": {},
   "outputs": [
    {
     "data": {
      "text/html": [
       "<div>\n",
       "<style>\n",
       "    .dataframe thead tr:only-child th {\n",
       "        text-align: right;\n",
       "    }\n",
       "\n",
       "    .dataframe thead th {\n",
       "        text-align: left;\n",
       "    }\n",
       "\n",
       "    .dataframe tbody tr th {\n",
       "        vertical-align: top;\n",
       "    }\n",
       "</style>\n",
       "<table border=\"1\" class=\"dataframe\">\n",
       "  <thead>\n",
       "    <tr style=\"text-align: right;\">\n",
       "      <th></th>\n",
       "      <th>Total (1000s)</th>\n",
       "      <th>Number (1000s)</th>\n",
       "      <th>Percent</th>\n",
       "      <th>Year</th>\n",
       "      <th>Mortality Rate (1,000s)</th>\n",
       "    </tr>\n",
       "  </thead>\n",
       "  <tbody>\n",
       "    <tr>\n",
       "      <th>Total (1000s)</th>\n",
       "      <td>1.000000</td>\n",
       "      <td>-0.173340</td>\n",
       "      <td>-0.534498</td>\n",
       "      <td>0.987428</td>\n",
       "      <td>-0.979633</td>\n",
       "    </tr>\n",
       "    <tr>\n",
       "      <th>Number (1000s)</th>\n",
       "      <td>-0.173340</td>\n",
       "      <td>1.000000</td>\n",
       "      <td>0.924977</td>\n",
       "      <td>-0.183347</td>\n",
       "      <td>0.063339</td>\n",
       "    </tr>\n",
       "    <tr>\n",
       "      <th>Percent</th>\n",
       "      <td>-0.534498</td>\n",
       "      <td>0.924977</td>\n",
       "      <td>1.000000</td>\n",
       "      <td>-0.538698</td>\n",
       "      <td>0.432502</td>\n",
       "    </tr>\n",
       "    <tr>\n",
       "      <th>Year</th>\n",
       "      <td>0.987428</td>\n",
       "      <td>-0.183347</td>\n",
       "      <td>-0.538698</td>\n",
       "      <td>1.000000</td>\n",
       "      <td>-0.989296</td>\n",
       "    </tr>\n",
       "    <tr>\n",
       "      <th>Mortality Rate (1,000s)</th>\n",
       "      <td>-0.979633</td>\n",
       "      <td>0.063339</td>\n",
       "      <td>0.432502</td>\n",
       "      <td>-0.989296</td>\n",
       "      <td>1.000000</td>\n",
       "    </tr>\n",
       "  </tbody>\n",
       "</table>\n",
       "</div>"
      ],
      "text/plain": [
       "                         Total (1000s)  Number (1000s)   Percent      Year  \\\n",
       "Total (1000s)                 1.000000       -0.173340 -0.534498  0.987428   \n",
       "Number (1000s)               -0.173340        1.000000  0.924977 -0.183347   \n",
       "Percent                      -0.534498        0.924977  1.000000 -0.538698   \n",
       "Year                          0.987428       -0.183347 -0.538698  1.000000   \n",
       "Mortality Rate (1,000s)      -0.979633        0.063339  0.432502 -0.989296   \n",
       "\n",
       "                         Mortality Rate (1,000s)  \n",
       "Total (1000s)                          -0.979633  \n",
       "Number (1000s)                          0.063339  \n",
       "Percent                                 0.432502  \n",
       "Year                                   -0.989296  \n",
       "Mortality Rate (1,000s)                 1.000000  "
      ]
     },
     "execution_count": 16,
     "metadata": {},
     "output_type": "execute_result"
    }
   ],
   "source": [
    "mississippi_data = data[data.STATE == 'Mississippi']\n",
    "mississippi_data.corr()"
   ]
  },
  {
   "cell_type": "code",
   "execution_count": 17,
   "metadata": {},
   "outputs": [
    {
     "data": {
      "image/png": "[encoded data removed]",
      "text/plain": [
       "<matplotlib.figure.Figure at 0x2bd38420668>"
      ]
     },
     "metadata": {},
     "output_type": "display_data"
    }
   ],
   "source": [
    "_ = plt.scatter(x='Percent', y='Mortality Rate (1,000s)', data=mississippi_data)\n",
    "_ = plt.xlabel('Poverty Rate')\n",
    "_ = plt.ylabel('Mortality Rate (1,000s)')\n",
    "plt.show()\n",
    "\n",
    "# We notice that there seems to be an outlier on the left side of the graph.  We also see that the correlation between mortality rate and the povery rate is much higher than if we had not sliced the data."
   ]
  },
  {
   "cell_type": "code",
   "execution_count": 18,
   "metadata": {},
   "outputs": [
    {
     "data": {
      "image/png": "[encoded data removed]",
      "text/plain": [
       "<matplotlib.figure.Figure at 0x2bd38450390>"
      ]
     },
     "metadata": {},
     "output_type": "display_data"
    }
   ],
   "source": [
    "# Let's pick a state that didn't have any outliers.  Let's pick Delaware.\n",
    "_ = plt.scatter(x='Percent', y='Mortality Rate (1,000s)', data=data[data.STATE == 'Delaware'])\n",
    "_ = plt.xlabel('Poverty Rate')\n",
    "_ = plt.ylabel('Mortality Rate (1,000s)')\n",
    "plt.show()"
   ]
  },
  {
   "cell_type": "code",
   "execution_count": 19,
   "metadata": {},
   "outputs": [
    {
     "data": {
      "text/html": [
       "<div>\n",
       "<style>\n",
       "    .dataframe thead tr:only-child th {\n",
       "        text-align: right;\n",
       "    }\n",
       "\n",
       "    .dataframe thead th {\n",
       "        text-align: left;\n",
       "    }\n",
       "\n",
       "    .dataframe tbody tr th {\n",
       "        vertical-align: top;\n",
       "    }\n",
       "</style>\n",
       "<table border=\"1\" class=\"dataframe\">\n",
       "  <thead>\n",
       "    <tr style=\"text-align: right;\">\n",
       "      <th></th>\n",
       "      <th>Total (1000s)</th>\n",
       "      <th>Number (1000s)</th>\n",
       "      <th>Percent</th>\n",
       "      <th>Year</th>\n",
       "      <th>Mortality Rate (1,000s)</th>\n",
       "    </tr>\n",
       "  </thead>\n",
       "  <tbody>\n",
       "    <tr>\n",
       "      <th>Total (1000s)</th>\n",
       "      <td>1.000000</td>\n",
       "      <td>0.631972</td>\n",
       "      <td>-0.087541</td>\n",
       "      <td>0.996367</td>\n",
       "      <td>-0.993732</td>\n",
       "    </tr>\n",
       "    <tr>\n",
       "      <th>Number (1000s)</th>\n",
       "      <td>0.631972</td>\n",
       "      <td>1.000000</td>\n",
       "      <td>0.711808</td>\n",
       "      <td>0.644447</td>\n",
       "      <td>-0.610379</td>\n",
       "    </tr>\n",
       "    <tr>\n",
       "      <th>Percent</th>\n",
       "      <td>-0.087541</td>\n",
       "      <td>0.711808</td>\n",
       "      <td>1.000000</td>\n",
       "      <td>-0.067085</td>\n",
       "      <td>0.115829</td>\n",
       "    </tr>\n",
       "    <tr>\n",
       "      <th>Year</th>\n",
       "      <td>0.996367</td>\n",
       "      <td>0.644447</td>\n",
       "      <td>-0.067085</td>\n",
       "      <td>1.000000</td>\n",
       "      <td>-0.996106</td>\n",
       "    </tr>\n",
       "    <tr>\n",
       "      <th>Mortality Rate (1,000s)</th>\n",
       "      <td>-0.993732</td>\n",
       "      <td>-0.610379</td>\n",
       "      <td>0.115829</td>\n",
       "      <td>-0.996106</td>\n",
       "      <td>1.000000</td>\n",
       "    </tr>\n",
       "  </tbody>\n",
       "</table>\n",
       "</div>"
      ],
      "text/plain": [
       "                         Total (1000s)  Number (1000s)   Percent      Year  \\\n",
       "Total (1000s)                 1.000000        0.631972 -0.087541  0.996367   \n",
       "Number (1000s)                0.631972        1.000000  0.711808  0.644447   \n",
       "Percent                      -0.087541        0.711808  1.000000 -0.067085   \n",
       "Year                          0.996367        0.644447 -0.067085  1.000000   \n",
       "Mortality Rate (1,000s)      -0.993732       -0.610379  0.115829 -0.996106   \n",
       "\n",
       "                         Mortality Rate (1,000s)  \n",
       "Total (1000s)                          -0.993732  \n",
       "Number (1000s)                         -0.610379  \n",
       "Percent                                 0.115829  \n",
       "Year                                   -0.996106  \n",
       "Mortality Rate (1,000s)                 1.000000  "
      ]
     },
     "execution_count": 19,
     "metadata": {},
     "output_type": "execute_result"
    }
   ],
   "source": [
    "data[data.STATE == 'Delaware'].corr()\n",
    "\n",
    "# Again the correlation between the poverty rate and mortality rate is low, but this seems to be because of the left-most and right-most data points skewing the correlation."
   ]
  },
  {
   "cell_type": "markdown",
   "metadata": {
    "collapsed": true
   },
   "source": [
    "What does this all mean?\n",
    "\n",
    "It certainly highlights the pitfall of ignoring outliers and the importance of how the data is sliced.\n",
    "I belive that going forward, the best way to slice the data is by state.  This level of granularity \n",
    "gives us insights that we might have been missed if we had not partitioned the data the way we did.\n",
    "My concern is that there might not be enough data points to give us a clear trend.\n",
    "\n",
    "In the Delaware example above, we see that the if we excluded the data points on the left and right\n",
    "side, that the poverty rate seems to be correlated with the mortality rate.  However, those two \n",
    "data points were never flagged as outliers no matter how we sliced the data.  This is something \n",
    "that we must keep in mind going forward.\n",
    "\n",
    "The only conclusion we are able to make so far is that the mortality rate has been going down over \n",
    "time.  Whether or not this is due to a decrease in poverty rate is yet to be proven.\n",
    "\n",
    "There a few more questions that we must answer in the future:\n",
    "1) How do we want to define an outlier?\n",
    "2) How do we want to deal with the outliers?\n",
    "\n",
    "My suspicion is that most of the states are like Delaware, where none of their data points are \n",
    "flagged as outliers, but it becomes apparent that some are actually outliers after graphing them."
   ]
  }
 ],
 "metadata": {
  "kernelspec": {
   "display_name": "Python 3",
   "language": "python",
   "name": "python3"
  },
  "language_info": {
   "codemirror_mode": {
    "name": "ipython",
    "version": 3
   },
   "file_extension": ".py",
   "mimetype": "text/x-python",
   "name": "python",
   "nbconvert_exporter": "python",
   "pygments_lexer": "ipython3",
   "version": "3.6.3"
  }
 },
 "nbformat": 4,
 "nbformat_minor": 2
}
