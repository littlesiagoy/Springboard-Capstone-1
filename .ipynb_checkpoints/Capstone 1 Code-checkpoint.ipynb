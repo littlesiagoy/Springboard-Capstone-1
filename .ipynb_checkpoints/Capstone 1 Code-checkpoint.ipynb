{
 "cells": [
  {
   "cell_type": "code",
   "execution_count": 17,
   "metadata": {
    "collapsed": true
   },
   "outputs": [],
   "source": [
    "import pandas as pd\n",
    "import numpy as np\n",
    "import re\n",
    "import matplotlib.pyplot as plt\n",
    "import seaborn as sns"
   ]
  },
  {
   "cell_type": "markdown",
   "metadata": {},
   "source": [
    "# Dataset Cleansing"
   ]
  },
  {
   "cell_type": "markdown",
   "metadata": {},
   "source": [
    "## Cleanse the Poverty Dataset"
   ]
  },
  {
   "cell_type": "code",
   "execution_count": 18,
   "metadata": {},
   "outputs": [
    {
     "name": "stderr",
     "output_type": "stream",
     "text": [
      "C:\\Users\\elliot.ting\\AppData\\Local\\Continuum\\anaconda3\\lib\\site-packages\\ipykernel_launcher.py:26: SettingWithCopyWarning: \n",
      "A value is trying to be set on a copy of a slice from a DataFrame.\n",
      "Try using .loc[row_indexer,col_indexer] = value instead\n",
      "\n",
      "See the caveats in the documentation: http://pandas.pydata.org/pandas-docs/stable/indexing.html#indexing-view-versus-copy\n"
     ]
    }
   ],
   "source": [
    "#Import the poverty dataset and update the column names.\n",
    "poverty_dataset = pd.read_excel('poverty_rate_dataset.xls', skiprows=[0, 1, 2, 3], header=0)\n",
    "poverty_dataset = poverty_dataset[['STATE', 'Total', 'Number', 'Percent']]\n",
    "\n",
    "\n",
    "# This will give us the rows where each year starts.\n",
    "test = poverty_dataset[poverty_dataset['Total'].isnull()]\n",
    "\n",
    "# This is the list of years we want to pull out.\n",
    "list_of_years = [1980, 1985, 1990, 1995, 2000, 2005, 2010]\n",
    "\n",
    "# year index + 2, next year is the formula for the indices in the poverty dataset\n",
    "data_1980 = poverty_dataset.iloc[1961:2012]\n",
    "data_1985 = poverty_dataset.iloc[1696:1747]\n",
    "data_1990 = poverty_dataset.iloc[1431:1482]\n",
    "data_1995 = poverty_dataset.iloc[1166:1217]\n",
    "data_2000 = poverty_dataset.iloc[901:952]\n",
    "data_2005 = poverty_dataset.iloc[636:687]\n",
    "data_2010 = poverty_dataset.iloc[371:422]\n",
    "\n",
    "# Add a year column to the data.\n",
    "data_sets = [data_1980, data_1985, data_1990, data_1995, data_2000, data_2005, data_2010]\n",
    "years = [1980, 1985, 1990, 1995, 2000, 2005, 2010]\n",
    "\n",
    "for index in range(len(data_sets)):\n",
    "    data_sets[index]['Year'] = years[index]\n",
    "\n",
    "# The result is the cleansed poverty_dataset.\n",
    "final_poverty_dataset = pd.concat(data_sets)\n",
    "\n",
    "# The columns are STATE, Total, Number, Percent, Year\n",
    "# Convert the total number, and percent columns to floats.\n",
    "final_poverty_dataset.Total = final_poverty_dataset.Total.apply(pd.to_numeric)\n",
    "final_poverty_dataset.Number = final_poverty_dataset.Number.apply(pd.to_numeric)\n",
    "final_poverty_dataset.Percent = final_poverty_dataset.Percent.apply(pd.to_numeric)\n",
    "\n",
    "# Rename the final poverty dataset columns.\n",
    "final_poverty_dataset.columns = ['STATE', 'Total (1000s)', 'Number (1000s)', 'Percent', 'Year']\n"
   ]
  },
  {
   "cell_type": "markdown",
   "metadata": {},
   "source": [
    "## Cleanse the Cardiovascular Dataset."
   ]
  },
  {
   "cell_type": "code",
   "execution_count": 19,
   "metadata": {
    "collapsed": true
   },
   "outputs": [],
   "source": [
    "# Import the cardio datset.\n",
    "cardio_dataset = pd.read_excel('cardiovascular_dataset.xlsx', sheet_name='Cardiovascular diseases', skiprows=[0])\n",
    "\n",
    "# Drop the 2014 column and the # change in mortality rate column.\n",
    "cardio_dataset = cardio_dataset.drop(['Mortality Rate, 2014*', '% Change in Mortality Rate, 1980-2014'], axis=1)\n",
    "\n",
    "# After inspecting the codebook, we see that all the states will be given an unique FIPS value.  It ranges from 1 to 56.\n",
    "# Initialize empty dataset.\n",
    "final_cardio_dataset = pd.DataFrame()\n",
    "\n",
    "# Return the row for each state and append it to the empty dataset.\n",
    "for index in range(57):\n",
    "    final_cardio_dataset = final_cardio_dataset.append(cardio_dataset[cardio_dataset.FIPS == index])\n",
    "\n",
    "final_cardio_dataset = pd.melt(final_cardio_dataset, id_vars=['Location', 'FIPS'])\n",
    "\n",
    "\n",
    "final_cardio_dataset.columns = [['Location', 'FIPS', 'Year', 'Mortality Rate']]\n",
    "\n",
    "# Replace the values in the variable column\n",
    "final_cardio_dataset.replace('^Mortality Rate, ', '', regex=True, inplace=True)\n",
    "final_cardio_dataset.replace('\\*$', '', regex=True, inplace=True)\n",
    "\n",
    "# Get rid of the confidence interval in the mortality rate column.\n",
    "final_cardio_dataset['Mortality Rate'] = final_cardio_dataset['Mortality Rate'].replace(' .*', '', regex=True)\n",
    "\n",
    "# Convert all the columns except for the states into numeric.\n",
    "final_cardio_dataset.Year = final_cardio_dataset.Year.apply(pd.to_numeric)\n",
    "final_cardio_dataset['Mortality Rate'] = final_cardio_dataset['Mortality Rate'].apply(pd.to_numeric)\n",
    "\n",
    "# Replace all District of Columbia values in cardio dataset to D.C.\n",
    "final_cardio_dataset.replace('District of Columbia', 'D.C.', regex=True, inplace=True)\n",
    "\n",
    "final_cardio_dataset.drop('FIPS', axis=1, inplace=True)\n",
    "\n"
   ]
  },
  {
   "cell_type": "markdown",
   "metadata": {},
   "source": [
    "## Errors\n",
    "Due to a weird Python error that we failed to overcome.  We will export the two datasets so that they can be combined into one master dataset in Excel.\n",
    "\n",
    "The cardiovascular dataset's currently is a multiindex dataframe.  Whenever we try to reset the column index, it still results in a multiindex dataframe."
   ]
  },
  {
   "cell_type": "code",
   "execution_count": 20,
   "metadata": {
    "collapsed": true
   },
   "outputs": [],
   "source": [
    "# Export the two datasets to excel and combine them in excel.\n",
    "final_poverty_dataset.to_excel('test.xlsx')\n",
    "final_cardio_dataset.to_excel('test2.xlsx')\n"
   ]
  },
  {
   "cell_type": "markdown",
   "metadata": {},
   "source": [
    "# Analysis\n",
    "We will use the following process in order to perform our analysis:\n",
    "1. Exploratory Data Analysis\n",
    "2. Machine Learning\n",
    "\n",
    "## Exploratory Data Analysis\n",
    "In order to perform our EDA, we will look for outliers and determine which variables are correlated and which variables are statistically significant.\n",
    "\n",
    "### Outlier Detection"
   ]
  },
  {
   "cell_type": "code",
   "execution_count": 21,
   "metadata": {},
   "outputs": [
    {
     "name": "stdout",
     "output_type": "stream",
     "text": [
      "           STATE  Total (1000s)  Number (1000s)  Percent  Year  \\\n",
      "24   Mississippi           2429             591     24.3  1980   \n",
      "75   Mississippi           2564             644     25.1  1985   \n",
      "126  Mississippi           2663             684     25.7  1990   \n",
      "184   New Mexico           1806             457     25.3  1995   \n",
      "263         D.C.            539             115     21.3  2005   \n",
      "\n",
      "     Mortality Rate (1,000s)  Outlier  \n",
      "24                    5.7281  Percent  \n",
      "75                    5.3990  Percent  \n",
      "126                   4.8697  Percent  \n",
      "184                   3.0454  Percent  \n",
      "263                   3.5194  Percent  \n"
     ]
    }
   ],
   "source": [
    "# The dataset I will be using is the cardiovascular/poverty dataset I created as the project 1 dataset.\n",
    "data = pd.read_excel('master_dataset.xlsx')\n",
    "\n",
    "# I want to split the data up by year and determine the amount of outliers in the Poverty Rate and Mortality Rate per year.\n",
    "data_1980 = data[data['Year'] == 1980]\n",
    "data_1985 = data[data['Year'] == 1985]\n",
    "data_1990 = data[data['Year'] == 1990]\n",
    "data_1995 = data[data['Year'] == 1995]\n",
    "data_2000 = data[data['Year'] == 2000]\n",
    "data_2005 = data[data['Year'] == 2005]\n",
    "data_2010 = data[data['Year'] == 2010]\n",
    "\n",
    "data_list = [data_1980, data_1985, data_1990, data_1995, data_2000, data_2005, data_2010]\n",
    "\n",
    "outliers_total_years = pd.DataFrame()\n",
    "for index in range(len(data_list)):\n",
    "    \n",
    "    # Initialize empty outlier dataframe.\n",
    "    \n",
    "    # Calculate the number of outliers in the poverty rate and mortality rate columns.\n",
    "    for i in [3, 5]:\n",
    "        outliers = pd.DataFrame()\n",
    "        # Determine the IQR.\n",
    "        IQR = (np.percentile(data_list[index][data_list[index].columns[i]], [75]) - np.percentile(data_list[index][data_list[index].columns[i]], [25]))[0]\n",
    "\n",
    "        # Determine the upper and lower range.\n",
    "        upper_range = np.percentile(data_list[index][data_list[index].columns[i]], [75])[0] + 1.5*IQR\n",
    "        lower_range = np.percentile(data_list[index][data_list[index].columns[i]], [25])[0] - 1.5*IQR\n",
    "        \n",
    "        # Determine which state's values are outliers.\n",
    "        outliers = outliers.append(data_list[index][data_list[index][data_list[index].columns[i]] > upper_range])\n",
    "        outliers = outliers.append(data_list[index][data_list[index][data_list[index].columns[i]] < lower_range])\n",
    "        \n",
    "        # Add what kind of outlier column.\n",
    "        if outliers.empty:\n",
    "            continue\n",
    "        else:\n",
    "            if i == 3:\n",
    "                outliers['Outlier'] = 'Percent'\n",
    "            else:\n",
    "                outliers['Outlier'] = 'Mortality'\n",
    "        outliers_total_years = outliers_total_years.append(outliers)\n",
    "        \n",
    "        \n",
    "print(outliers_total_years)"
   ]
  },
  {
   "cell_type": "markdown",
   "metadata": {},
   "source": [
    "We can see that we have 5 outliers and they are all from the poverty rate column.  There do not seem to be any outliers in the mortality rates.\n",
    "\n",
    "What is also interesting is the fact that there seems to be 1 outlier a year except for the year 2000, where there aren't any.\n",
    "\n",
    "This is interseting because when we slice the data by state instead of year, the number of outliers differ."
   ]
  },
  {
   "cell_type": "code",
   "execution_count": 22,
   "metadata": {
    "scrolled": false
   },
   "outputs": [
    {
     "name": "stdout",
     "output_type": "stream",
     "text": [
      "              STATE  Total (1000s)  Number (1000s)  Percent  Year  \\\n",
      "339  North Carolina           9359            1633     17.4  2010   \n",
      "300         Vermont            621              47      7.6  2005   \n",
      "224        Maryland           5241             386      7.4  2000   \n",
      "349           Texas          25200            4633     18.4  2010   \n",
      "212            D.C.            552              84     15.2  2000   \n",
      "343          Oregon           3752             537     14.3  2010   \n",
      "139          Oregon           2891             267      9.2  1990   \n",
      "99    West Virginia           1894             423     22.3  1985   \n",
      "341            Ohio          11341            1746     15.4  2010   \n",
      "184      New Mexico           1806             457     25.3  1995   \n",
      "36         Oklahoma           2916             406     13.9  1980   \n",
      "228     Mississippi           2794             418     14.9  2000   \n",
      "66             Iowa           2815             505     17.9  1985   \n",
      "193  South Carolina           3741             744     19.9  1995   \n",
      "244  South Carolina           3964             441     11.1  2000   \n",
      "267           Idaho           1441             143      9.9  2005   \n",
      "320         Indiana           6390            1041     16.3  2010   \n",
      "\n",
      "     Mortality Rate (1,000s)  Outlier  \n",
      "339                   2.6031  Percent  \n",
      "300                   2.5737  Percent  \n",
      "224                   3.5119  Percent  \n",
      "349                   2.6492  Percent  \n",
      "212                   3.9856  Percent  \n",
      "343                   2.1911  Percent  \n",
      "139                   3.5271  Percent  \n",
      "99                    5.2058  Percent  \n",
      "341                   2.7521  Percent  \n",
      "184                   3.0454  Percent  \n",
      "36                    5.0368  Percent  \n",
      "228                   4.4876  Percent  \n",
      "66                    4.2764  Percent  \n",
      "193                   4.1563  Percent  \n",
      "244                   3.7618  Percent  \n",
      "267                   2.6478  Percent  \n",
      "320                   2.8094  Percent  \n"
     ]
    }
   ],
   "source": [
    "list_of_states = list(set(data.STATE))\n",
    "\n",
    "outliers_total_state = pd.DataFrame()\n",
    "for index in range(len(list_of_states)):\n",
    "    \n",
    "    state_data = data[data.STATE == list_of_states[index]]\n",
    "    \n",
    "    # Calculate the number of outliers in the poverty rate and mortality rate columns.\n",
    "    for i in [3, 5]:\n",
    "        outliers = pd.DataFrame()\n",
    "        # Determine the IQR.\n",
    "        IQR = (np.percentile(state_data[state_data.columns[i]], [75]) - np.percentile(state_data[state_data.columns[i]], [25]))[0]\n",
    "\n",
    "        # Determine the upper and lower range.\n",
    "        upper_range = np.percentile(state_data[state_data.columns[i]], [75])[0] + 1.5*IQR\n",
    "        lower_range = np.percentile(state_data[state_data.columns[i]], [25])[0] - 1.5*IQR\n",
    "\n",
    "        # Determine which state's values are outliers.\n",
    "        outliers = outliers.append(state_data[state_data[state_data.columns[i]] > upper_range])\n",
    "        outliers = outliers.append(state_data[state_data[state_data.columns[i]] < lower_range])\n",
    "\n",
    "        # Add what kind of outlier column.\n",
    "        if outliers.empty:\n",
    "            continue\n",
    "        else:\n",
    "            if i == 3:\n",
    "                outliers['Outlier'] = 'Percent'\n",
    "            else:\n",
    "                outliers['Outlier'] = 'Mortality'\n",
    "        outliers_total_state = outliers_total_state.append(outliers)\n",
    "        \n",
    "        \n",
    "print(outliers_total_state)"
   ]
  },
  {
   "cell_type": "code",
   "execution_count": 25,
   "metadata": {},
   "outputs": [
    {
     "name": "stdout",
     "output_type": "stream",
     "text": [
      "           STATE  Total (1000s)  Number (1000s)  Percent  Year  \\\n",
      "24   Mississippi           2429             591     24.3  1980   \n",
      "75   Mississippi           2564             644     25.1  1985   \n",
      "126  Mississippi           2663             684     25.7  1990   \n",
      "184   New Mexico           1806             457     25.3  1995   \n",
      "\n",
      "     Mortality Rate (1,000s)  Outlier  \n",
      "24                    5.7281  Percent  \n",
      "75                    5.3990  Percent  \n",
      "126                   4.8697  Percent  \n",
      "184                   3.0454  Percent  \n"
     ]
    },
    {
     "data": {
      "text/plain": [
       "Int64Index([24, 75, 126, 184], dtype='int64')"
      ]
     },
     "execution_count": 25,
     "metadata": {},
     "output_type": "execute_result"
    }
   ],
   "source": [
    "# Now if we don't slice the data in any shape.  The following are what we consider outliers.\n",
    "outliers_total_none = pd.DataFrame()\n",
    "\n",
    "# Calculate the number of outliers in the poverty rate and mortality rate columns.\n",
    "for i in [3, 5]:\n",
    "    outliers = pd.DataFrame()\n",
    "    # Determine the IQR.\n",
    "    IQR = (np.percentile(data[data.columns[i]], [75]) - np.percentile(data[data.columns[i]], [25]))[0]\n",
    "\n",
    "    # Determine the upper and lower range.\n",
    "    upper_range = np.percentile(data[data.columns[i]], [75])[0] + 1.5*IQR\n",
    "    lower_range = np.percentile(data[data.columns[i]], [25])[0] - 1.5*IQR\n",
    "\n",
    "    # Determine which state's values are outliers.\n",
    "    outliers = outliers.append(data[data[data.columns[i]] > upper_range])\n",
    "    outliers = outliers.append(data[data[data.columns[i]] < lower_range])\n",
    "\n",
    "    # Add what kind of outlier column.\n",
    "    if outliers.empty:\n",
    "        continue\n",
    "    else:\n",
    "        if i == 3:\n",
    "            outliers['Outlier'] = 'Percent'\n",
    "        else:\n",
    "            outliers['Outlier'] = 'Mortality'\n",
    "    outliers_total_none = outliers_total_none.append(outliers)\n",
    "\n",
    "\n",
    "print(outliers_total_none)\n",
    "outliers_total_none.index"
   ]
  },
  {
   "cell_type": "markdown",
   "metadata": {},
   "source": [
    "The fact that the amount of outliers differ on how we partition the data is intersting.\n",
    "\n",
    "Below is a histogram of the different amount of outliers based on the partition.\n",
    "\n",
    "It is important to note that none of the outliers flagged came from the mortality rate, they were all poverty rate outliers."
   ]
  },
  {
   "cell_type": "code",
   "execution_count": 24,
   "metadata": {},
   "outputs": [
    {
     "data": {
      "image/png": "[encoded data removed]",
      "text/plain": [
       "<matplotlib.figure.Figure at 0x1e1040c3518>"
      ]
     },
     "metadata": {},
     "output_type": "display_data"
    }
   ],
   "source": [
    "# The fact that the amount of outliers differ on how we partition the data is interesting, but I suspect that it's due to a lack of data points when we slice by state.\n",
    "\n",
    "# Here is a histogram of the different amount of outliers based on the partition criteria.\n",
    "outlier_totals = pd.DataFrame([['No Slicing', outliers_total_none.shape[0]],\n",
    "                              ['Slice by State', outliers_total_state.shape[0]],\n",
    "                              ['Slice by Year', outliers_total_years.shape[0]]])\n",
    "\n",
    "outlier_totals.columns = [['Slicing Criteria', 'Num of Outliers']]\n",
    "\n",
    "sns.barplot(x='Slicing Criteria', y='Num of Outliers', data=outlier_totals)\n",
    "plt.title('# of Outliers by Slicing Criteria')\n",
    "plt.show()"
   ]
  },
  {
   "cell_type": "code",
   "execution_count": 53,
   "metadata": {},
   "outputs": [
    {
     "ename": "ValueError",
     "evalue": "Using arbitrary long args with data is not supported due to ambiguity of arguments.\nUse multiple plotting calls instead.",
     "output_type": "error",
     "traceback": [
      "\u001b[1;31m---------------------------------------------------------------------------\u001b[0m",
      "\u001b[1;31mValueError\u001b[0m                                Traceback (most recent call last)",
      "\u001b[1;32m<ipython-input-53-6b7d6a365bf9>\u001b[0m in \u001b[0;36m<module>\u001b[1;34m()\u001b[0m\n\u001b[0;32m      7\u001b[0m \u001b[0mplt\u001b[0m\u001b[1;33m.\u001b[0m\u001b[0mscatter\u001b[0m\u001b[1;33m(\u001b[0m\u001b[0mx\u001b[0m\u001b[1;33m=\u001b[0m\u001b[1;34m'Percent'\u001b[0m\u001b[1;33m,\u001b[0m \u001b[0my\u001b[0m\u001b[1;33m=\u001b[0m\u001b[1;34m'Mortality Rate (1,000s)'\u001b[0m\u001b[1;33m,\u001b[0m \u001b[0mdata\u001b[0m\u001b[1;33m=\u001b[0m\u001b[0mdata\u001b[0m\u001b[1;33m)\u001b[0m\u001b[1;33m\u001b[0m\u001b[0m\n\u001b[0;32m      8\u001b[0m \u001b[0mplt\u001b[0m\u001b[1;33m.\u001b[0m\u001b[0mtitle\u001b[0m\u001b[1;33m(\u001b[0m\u001b[1;34m'Cardiovascular vs Poverty Rate - Original Data'\u001b[0m\u001b[1;33m)\u001b[0m\u001b[1;33m\u001b[0m\u001b[0m\n\u001b[1;32m----> 9\u001b[1;33m \u001b[0mplt\u001b[0m\u001b[1;33m.\u001b[0m\u001b[0mplot\u001b[0m\u001b[1;33m(\u001b[0m\u001b[0mx\u001b[0m\u001b[1;33m=\u001b[0m\u001b[1;34m'Percent'\u001b[0m\u001b[1;33m,\u001b[0m \u001b[0my\u001b[0m\u001b[1;33m=\u001b[0m\u001b[1;34m'Mortality Rate (1,000s)'\u001b[0m\u001b[1;33m,\u001b[0m \u001b[0mdata\u001b[0m\u001b[1;33m=\u001b[0m\u001b[0mdata_no_slice\u001b[0m\u001b[1;33m)\u001b[0m\u001b[1;33m\u001b[0m\u001b[0m\n\u001b[0m\u001b[0;32m     10\u001b[0m \u001b[0mplt\u001b[0m\u001b[1;33m.\u001b[0m\u001b[0mtitle\u001b[0m\u001b[1;33m(\u001b[0m\u001b[1;34m'Cardiovascular vs Poverty Rate - Original Data'\u001b[0m\u001b[1;33m)\u001b[0m\u001b[1;33m\u001b[0m\u001b[0m\n\u001b[0;32m     11\u001b[0m \u001b[1;33m\u001b[0m\u001b[0m\n",
      "\u001b[1;32m~\\AppData\\Local\\Continuum\\anaconda3\\lib\\site-packages\\matplotlib\\pyplot.py\u001b[0m in \u001b[0;36mplot\u001b[1;34m(*args, **kwargs)\u001b[0m\n\u001b[0;32m   3238\u001b[0m                       mplDeprecation)\n\u001b[0;32m   3239\u001b[0m     \u001b[1;32mtry\u001b[0m\u001b[1;33m:\u001b[0m\u001b[1;33m\u001b[0m\u001b[0m\n\u001b[1;32m-> 3240\u001b[1;33m         \u001b[0mret\u001b[0m \u001b[1;33m=\u001b[0m \u001b[0max\u001b[0m\u001b[1;33m.\u001b[0m\u001b[0mplot\u001b[0m\u001b[1;33m(\u001b[0m\u001b[1;33m*\u001b[0m\u001b[0margs\u001b[0m\u001b[1;33m,\u001b[0m \u001b[1;33m**\u001b[0m\u001b[0mkwargs\u001b[0m\u001b[1;33m)\u001b[0m\u001b[1;33m\u001b[0m\u001b[0m\n\u001b[0m\u001b[0;32m   3241\u001b[0m     \u001b[1;32mfinally\u001b[0m\u001b[1;33m:\u001b[0m\u001b[1;33m\u001b[0m\u001b[0m\n\u001b[0;32m   3242\u001b[0m         \u001b[0max\u001b[0m\u001b[1;33m.\u001b[0m\u001b[0m_hold\u001b[0m \u001b[1;33m=\u001b[0m \u001b[0mwashold\u001b[0m\u001b[1;33m\u001b[0m\u001b[0m\n",
      "\u001b[1;32m~\\AppData\\Local\\Continuum\\anaconda3\\lib\\site-packages\\matplotlib\\__init__.py\u001b[0m in \u001b[0;36minner\u001b[1;34m(ax, *args, **kwargs)\u001b[0m\n\u001b[0;32m   1646\u001b[0m                     \u001b[1;31m# update the information about replace names and\u001b[0m\u001b[1;33m\u001b[0m\u001b[1;33m\u001b[0m\u001b[0m\n\u001b[0;32m   1647\u001b[0m                     \u001b[1;31m# label position\u001b[0m\u001b[1;33m\u001b[0m\u001b[1;33m\u001b[0m\u001b[0m\n\u001b[1;32m-> 1648\u001b[1;33m                     \u001b[0m_arg_names\u001b[0m \u001b[1;33m=\u001b[0m \u001b[0mpositional_parameter_names\u001b[0m\u001b[1;33m(\u001b[0m\u001b[0margs\u001b[0m\u001b[1;33m,\u001b[0m \u001b[0mdata\u001b[0m\u001b[1;33m)\u001b[0m\u001b[1;33m\u001b[0m\u001b[0m\n\u001b[0m\u001b[0;32m   1649\u001b[0m                     if (label_namer and  # we actually want a label here ...\n\u001b[0;32m   1650\u001b[0m                             \u001b[0m_arg_names\u001b[0m \u001b[1;32mand\u001b[0m  \u001b[1;31m# and we can find a label in *args\u001b[0m\u001b[1;33m\u001b[0m\u001b[0m\n",
      "\u001b[1;32m~\\AppData\\Local\\Continuum\\anaconda3\\lib\\site-packages\\matplotlib\\axes\\_axes.py\u001b[0m in \u001b[0;36m_plot_args_replacer\u001b[1;34m(args, data)\u001b[0m\n\u001b[0;32m     84\u001b[0m         \u001b[1;32mreturn\u001b[0m \u001b[1;33m[\u001b[0m\u001b[1;34m\"x\"\u001b[0m\u001b[1;33m,\u001b[0m \u001b[1;34m\"y\"\u001b[0m\u001b[1;33m,\u001b[0m \u001b[1;34m\"c\"\u001b[0m\u001b[1;33m]\u001b[0m\u001b[1;33m\u001b[0m\u001b[0m\n\u001b[0;32m     85\u001b[0m     \u001b[1;32melse\u001b[0m\u001b[1;33m:\u001b[0m\u001b[1;33m\u001b[0m\u001b[0m\n\u001b[1;32m---> 86\u001b[1;33m         raise ValueError(\"Using arbitrary long args with data is not \"\n\u001b[0m\u001b[0;32m     87\u001b[0m                          \u001b[1;34m\"supported due to ambiguity of arguments.\\nUse \"\u001b[0m\u001b[1;33m\u001b[0m\u001b[0m\n\u001b[0;32m     88\u001b[0m                          \"multiple plotting calls instead.\")\n",
      "\u001b[1;31mValueError\u001b[0m: Using arbitrary long args with data is not supported due to ambiguity of arguments.\nUse multiple plotting calls instead."
     ]
    }
   ],
   "source": [
    "# Create the 3 datasets with the outliers removed.\n",
    "data_no_slice = data.drop(outliers_total_none.index)\n",
    "data_slice_state = data.drop(outliers_total_state.index)\n",
    "data_slice_year = data.drop(outliers_total_years.index)\n",
    "\n",
    "# Plot all 4 datasets using mortality rate vs poverty rate.\n",
    "plt.scatter(x='Percent', y='Mortality Rate (1,000s)', data=data)\n",
    "plt.title('Cardiovascular vs Poverty Rate - Original Data')\n",
    "plt.plot(x='Percent', y='Mortality Rate (1,000s)', data=data_no_slice)\n",
    "plt.title('Cardiovascular vs Poverty Rate - Original Data')\n",
    "\n",
    "plt.show()"
   ]
  }
 ],
 "metadata": {
  "kernelspec": {
   "display_name": "Python 3",
   "language": "python",
   "name": "python3"
  },
  "language_info": {
   "codemirror_mode": {
    "name": "ipython",
    "version": 3
   },
   "file_extension": ".py",
   "mimetype": "text/x-python",
   "name": "python",
   "nbconvert_exporter": "python",
   "pygments_lexer": "ipython3",
   "version": "3.6.3"
  }
 },
 "nbformat": 4,
 "nbformat_minor": 2
}
